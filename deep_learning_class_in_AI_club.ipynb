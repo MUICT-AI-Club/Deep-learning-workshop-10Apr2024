{
  "cells": [
    {
      "cell_type": "code",
      "source": [
        "import numpy as np\n",
        "import pandas as pd\n",
        "import matplotlib.pyplot as plt"
      ],
      "metadata": {
        "id": "cHkDKnuNrNuF"
      },
      "execution_count": null,
      "outputs": []
    },
    {
      "cell_type": "code",
      "source": [
        "from sklearn.model_selection import train_test_split"
      ],
      "metadata": {
        "id": "fBgCaHOxvY12"
      },
      "execution_count": null,
      "outputs": []
    },
    {
      "cell_type": "code",
      "source": [
        "import torch\n",
        "from torch import nn\n",
        "from torch.nn.parameter import Parameter\n",
        "import torch.nn.functional as F"
      ],
      "metadata": {
        "id": "aztDuUCBvcl_"
      },
      "execution_count": null,
      "outputs": []
    },
    {
      "cell_type": "code",
      "source": [
        "import ipywidgets as widgets\n",
        "from ipywidgets import interact, fixed"
      ],
      "metadata": {
        "id": "SeiUo-z7S92s"
      },
      "execution_count": null,
      "outputs": []
    },
    {
      "cell_type": "markdown",
      "source": [
        "# PyTorch Tutorial"
      ],
      "metadata": {
        "id": "X4q-UPN4_K28"
      }
    },
    {
      "cell_type": "code",
      "source": [
        "# Create tensor from list below and save it as l\n",
        "data = [[1, 2], [3, 4]]"
      ],
      "metadata": {
        "id": "vuLFa8pA_aum"
      },
      "execution_count": null,
      "outputs": []
    },
    {
      "cell_type": "code",
      "source": [
        "# Create tensor with shape (1, 7) without care its value using unsigned integer 8 bits"
      ],
      "metadata": {
        "id": "66SjNwq7_613"
      },
      "execution_count": null,
      "outputs": []
    },
    {
      "cell_type": "code",
      "source": [
        "# Create tensor with shape (2, 3, 3, 4) with all zeros and store it to varible t using float 32 bit"
      ],
      "metadata": {
        "id": "eHJYEQr0ACpA"
      },
      "execution_count": null,
      "outputs": []
    },
    {
      "cell_type": "code",
      "source": [
        "# Change elem [1, 2, 0, 1] of t to 20"
      ],
      "metadata": {
        "id": "_n1iW9dfAVMT"
      },
      "execution_count": null,
      "outputs": []
    },
    {
      "cell_type": "code",
      "source": [
        "# Change a first row of l to be 7"
      ],
      "metadata": {
        "id": "KGmabJaAAcEl"
      },
      "execution_count": null,
      "outputs": []
    },
    {
      "cell_type": "code",
      "source": [
        "# Add every elem in l by 1"
      ],
      "metadata": {
        "id": "TrEglrpmAn8A"
      },
      "execution_count": null,
      "outputs": []
    },
    {
      "cell_type": "code",
      "source": [
        "# Create a random 2 (3, ) vector, then do elememt wise multiplication"
      ],
      "metadata": {
        "id": "o-6sTEnUEAAk"
      },
      "execution_count": null,
      "outputs": []
    },
    {
      "cell_type": "code",
      "source": [
        "# Create a random (3, ) vector , then calculate the dot product"
      ],
      "metadata": {
        "id": "9Qtf49uiDtpf"
      },
      "execution_count": null,
      "outputs": []
    },
    {
      "cell_type": "code",
      "source": [
        "# Create a identity (3, 3) matrix and (3, ) vector, then calculate the matrix-vector product"
      ],
      "metadata": {
        "id": "yj-I5LHyAt7c"
      },
      "execution_count": null,
      "outputs": []
    },
    {
      "cell_type": "code",
      "source": [
        "# Create a identity (3, 3) matrix and (3, 3) matrix, then calculate the matrix-matrix product"
      ],
      "metadata": {
        "id": "BFAlD6WGDqEA"
      },
      "execution_count": null,
      "outputs": []
    },
    {
      "cell_type": "code",
      "source": [
        "# Create a one hot encoding for a tensor [0, 1, 2, 5, 4, 0]\n",
        "# https://pytorch.org/docs/stable/generated/torch.nn.functional.one_hot.html"
      ],
      "metadata": {
        "id": "-Oap3YkaQNcB"
      },
      "execution_count": null,
      "outputs": []
    },
    {
      "cell_type": "code",
      "source": [
        "# idk, read the docs https://pytorch.org/docs/stable/tensors.html"
      ],
      "metadata": {
        "id": "kEsoPN3fENOI"
      },
      "execution_count": null,
      "outputs": []
    },
    {
      "cell_type": "markdown",
      "source": [
        "# Working on Regression problem using Simple Linear regression"
      ],
      "metadata": {
        "id": "HopF_jZF_O7S"
      }
    },
    {
      "cell_type": "markdown",
      "source": [
        "## Def"
      ],
      "metadata": {
        "id": "5S8Cb6di4-CT"
      }
    },
    {
      "cell_type": "code",
      "source": [
        "def find_best_param_for_linear_regression(x, y):\n",
        "    # solve it analytically\n",
        "    # https://en.wikipedia.org/wiki/Simple_linear_regression\n",
        "\n",
        "    x_bar = torch.mean(x)\n",
        "    y_bar = torch.mean(y)\n",
        "    w = torch.sum(torch.multiply((x - x_bar), (y - y_bar))) / torch.sum((x - x_bar)**2)\n",
        "    b = y_bar - w * x_bar\n",
        "    return w, b"
      ],
      "metadata": {
        "id": "2UnDP5x247-q"
      },
      "execution_count": null,
      "outputs": []
    },
    {
      "cell_type": "code",
      "source": [
        "def linear_regression_forward(x, w, b):\n",
        "    return w*x + b"
      ],
      "metadata": {
        "id": "J4PcMKZL450d"
      },
      "execution_count": null,
      "outputs": []
    },
    {
      "cell_type": "code",
      "source": [
        "def plot_linear_regression(w, b, x, y):\n",
        "    plt.scatter(x, y, alpha=0.5, label=\"Data\")\n",
        "    plt.plot([-2, 30], [linear_regression_forward(-2, w, b), linear_regression_forward(30, w, b)], c=\"orange\", label=f\"Set w={w} b={b}\");\n",
        "    plt.xlabel(\"Quiz\")\n",
        "    plt.ylabel(\"Final\")\n",
        "    plt.legend()\n",
        "    plt.show()"
      ],
      "metadata": {
        "id": "TyjNXbIy43vG"
      },
      "execution_count": null,
      "outputs": []
    },
    {
      "cell_type": "code",
      "source": [
        "def calculate_error(y_true, y_pred):\n",
        "    return torch.mean((y_true - y_pred)**2)\n",
        "    # e = 0\n",
        "    # for y_t, y_p in zip(y_true, y_pred):\n",
        "    #     e += (y_t - y_p)**2\n",
        "    # return e"
      ],
      "metadata": {
        "id": "vkqUWAAH4y47"
      },
      "execution_count": null,
      "outputs": []
    },
    {
      "cell_type": "markdown",
      "source": [
        "## Load data"
      ],
      "metadata": {
        "id": "YBx99bu55Bid"
      }
    },
    {
      "cell_type": "code",
      "source": [
        "# read csv data\n",
        "df = pd.read_csv(\"student-score-data-reduce.csv\")"
      ],
      "metadata": {
        "id": "-xcdubsMvnG0"
      },
      "execution_count": null,
      "outputs": []
    },
    {
      "cell_type": "code",
      "source": [
        "x = torch.from_numpy(df[\"Quiz\"].values)\n",
        "y = torch.from_numpy(df[\"Final\"].values)\n",
        "x, x_val, y, y_val = train_test_split(x, y, test_size=0.4) # 60% train\n",
        "x_val, x_test, y_val, y_test = train_test_split(x_val, y_val, test_size=0.5) # 20% validate, 20% test"
      ],
      "metadata": {
        "id": "hkwQYouuvrmG"
      },
      "execution_count": null,
      "outputs": []
    },
    {
      "cell_type": "code",
      "source": [
        "print(x.shape, y.shape)\n",
        "print(x_val.shape, y_val.shape)\n",
        "print(x_test.shape, y_test.shape)"
      ],
      "metadata": {
        "id": "4Uz0Dv0VTGPx"
      },
      "execution_count": null,
      "outputs": []
    },
    {
      "cell_type": "code",
      "source": [
        "plt.scatter(x, y, label=\"training data\");\n",
        "plt.scatter(x_val, y_val, label=\"validation data\");\n",
        "plt.scatter(x_test, y_test, label=\"validation data\");\n",
        "plt.xlabel(\"Quiz\")\n",
        "plt.ylabel(\"Final\")\n",
        "plt.legend()"
      ],
      "metadata": {
        "id": "mp6afprOyp0I"
      },
      "execution_count": null,
      "outputs": []
    },
    {
      "cell_type": "code",
      "source": [
        "# Try model tuning by hand\n",
        "w = widgets.FloatSlider(value=0, min=-10.,max=10.0, step=0.1,)\n",
        "b = widgets.FloatSlider(value=0, min=-10.,max=10.0, step=0.1,)\n",
        "interact(plot_linear_regression, w=w, b=b, x=fixed(x), y=fixed(y));"
      ],
      "metadata": {
        "id": "P7iOLKXRTCfn"
      },
      "execution_count": null,
      "outputs": []
    },
    {
      "cell_type": "markdown",
      "source": [
        "## Optimize the model analytically"
      ],
      "metadata": {
        "id": "ZHO_iV7pK7rX"
      }
    },
    {
      "cell_type": "code",
      "source": [
        "best_w, best_b = find_best_param_for_linear_regression(x, y)\n",
        "print(best_w, best_b)"
      ],
      "metadata": {
        "id": "0NuaBwupp35a"
      },
      "execution_count": null,
      "outputs": []
    },
    {
      "cell_type": "code",
      "source": [
        "calculate_error(y, linear_regression_forward(x, best_w, best_b))"
      ],
      "metadata": {
        "id": "OrU5BLvvv86T"
      },
      "execution_count": null,
      "outputs": []
    },
    {
      "cell_type": "code",
      "source": [
        "plot_linear_regression(best_w, best_b, x, y)"
      ],
      "metadata": {
        "id": "QT_XGpu43wM5"
      },
      "execution_count": null,
      "outputs": []
    },
    {
      "cell_type": "markdown",
      "source": [
        "## Use PyTorch to Optimize the model numerically"
      ],
      "metadata": {
        "id": "EWPOdu5VKsoq"
      }
    },
    {
      "cell_type": "code",
      "source": [
        "class ScoreDataset(torch.utils.data.Dataset):\n",
        "    def __init__(self, x, y):\n",
        "        self.x = x\n",
        "        self.y = y\n",
        "        assert len(x) == len(y)\n",
        "        self.n = len(x)\n",
        "    def __getitem__(self, idx):\n",
        "        return self.x[idx], self.y[idx]\n",
        "    def __len__(self):\n",
        "        return self.n"
      ],
      "metadata": {
        "id": "Q4wsou7X4-t9"
      },
      "execution_count": null,
      "outputs": []
    },
    {
      "cell_type": "code",
      "source": [
        "class SimpleLinear(nn.Module):\n",
        "    def __init__(self):\n",
        "        super().__init__()\n",
        "        self.w = Parameter(torch.empty(1, dtype=torch.float64))\n",
        "        self.b = Parameter(torch.empty(1, dtype=torch.float64))\n",
        "\n",
        "    def forward(self, x):\n",
        "        return self.w * x + self.b"
      ],
      "metadata": {
        "id": "Jak9xr1doktV"
      },
      "execution_count": null,
      "outputs": []
    },
    {
      "cell_type": "code",
      "source": [
        "def train_model_one_epoch(model, train_dataloader, optimizer, loss_fn):\n",
        "    model.train()\n",
        "    cummulative_loss = 0\n",
        "    for data in train_dataloader:\n",
        "        # Every data instance is an input + label pair\n",
        "        inputs, labels = data\n",
        "        # Zero your gradients for every batch!\n",
        "        optimizer.zero_grad()\n",
        "\n",
        "        # Make predictions for this batch\n",
        "        outputs = model(inputs)\n",
        "\n",
        "        # Compute the loss and its gradients\n",
        "        loss = loss_fn(outputs, labels)\n",
        "        loss.backward()\n",
        "\n",
        "        # Adjust learning weights\n",
        "        optimizer.step()\n",
        "\n",
        "        cummulative_loss += loss.item()\n",
        "\n",
        "    cummulative_loss /= len(train_dataloader)\n",
        "    return cummulative_loss"
      ],
      "metadata": {
        "id": "_tAN8u1H6hGB"
      },
      "execution_count": null,
      "outputs": []
    },
    {
      "cell_type": "code",
      "source": [
        "@torch.no_grad()\n",
        "def evaluate_model(model, dataloader):\n",
        "    model.eval()\n",
        "    cummulative_loss = 0\n",
        "    for data in dataloader:\n",
        "        # Every data instance is an input + label pair\n",
        "        inputs, labels = data\n",
        "\n",
        "        # Make predictions for this batch\n",
        "        outputs = model(inputs)\n",
        "\n",
        "        # Compute the loss\n",
        "        loss = loss_fn(outputs, labels)\n",
        "        cummulative_loss += loss.item()\n",
        "\n",
        "    cummulative_loss /= len(dataloader)\n",
        "    return cummulative_loss"
      ],
      "metadata": {
        "id": "ppN24_PH6ti0"
      },
      "execution_count": null,
      "outputs": []
    },
    {
      "cell_type": "markdown",
      "source": [
        "### Train"
      ],
      "metadata": {
        "id": "HaTlXlTR6u1P"
      }
    },
    {
      "cell_type": "code",
      "source": [
        "# Create dataset\n",
        "train_dataset = ScoreDataset(x, y)\n",
        "train_dataloader = torch.utils.data.DataLoader(train_dataset, batch_size=32, shuffle=True)\n",
        "\n",
        "val_dataset = ScoreDataset(x_val, y_val)\n",
        "val_dataloader = torch.utils.data.DataLoader(val_dataset, batch_size=32, shuffle=False)\n",
        "\n",
        "test_dataset = ScoreDataset(x_test, y_test)\n",
        "test_dataloader = torch.utils.data.DataLoader(test_dataset, batch_size=32, shuffle=False)"
      ],
      "metadata": {
        "id": "jkD39kud0v0R"
      },
      "execution_count": null,
      "outputs": []
    },
    {
      "cell_type": "code",
      "source": [
        "# Create model\n",
        "model = SimpleLinear()\n",
        "model.train();"
      ],
      "metadata": {
        "id": "23bZXZaW0fnJ"
      },
      "execution_count": null,
      "outputs": []
    },
    {
      "cell_type": "code",
      "source": [
        "# Create error function and optimizer\n",
        "loss_fn = nn.MSELoss()\n",
        "optimizer = torch.optim.SGD(model.parameters(), lr=0.0002)\n",
        "n_epochs = 20"
      ],
      "metadata": {
        "id": "SsA0o0Kr7hOk"
      },
      "execution_count": null,
      "outputs": []
    },
    {
      "cell_type": "code",
      "source": [
        "train_loss = []\n",
        "val_loss = []\n",
        "for ep in range(n_epochs):\n",
        "    train_loss_ep = train_model_one_epoch(model, train_dataloader, optimizer, loss_fn)\n",
        "    train_loss.append(train_loss_ep)\n",
        "    val_loss_ep = evaluate_model(model, val_dataloader)\n",
        "    val_loss.append(val_loss_ep)\n",
        "    print(f\"epoch {ep}: train loss: {train_loss_ep}, val loss: {val_loss_ep}\")"
      ],
      "metadata": {
        "id": "OYL37058y5H6"
      },
      "execution_count": null,
      "outputs": []
    },
    {
      "cell_type": "code",
      "source": [
        "plt.plot(train_loss, label=\"training loss\")\n",
        "plt.plot(val_loss, label=\"validation loss\")\n",
        "plt.legend()"
      ],
      "metadata": {
        "id": "9au-FC7NzCdo"
      },
      "execution_count": null,
      "outputs": []
    },
    {
      "cell_type": "code",
      "source": [
        "state_dict = model.state_dict()"
      ],
      "metadata": {
        "id": "rlbVKlL72ehJ"
      },
      "execution_count": null,
      "outputs": []
    },
    {
      "cell_type": "code",
      "source": [
        "state_dict[\"w\"], state_dict[\"b\"]"
      ],
      "metadata": {
        "id": "43t2Cmvq23Fd"
      },
      "execution_count": null,
      "outputs": []
    },
    {
      "cell_type": "code",
      "source": [
        "plt.title(\"Compare both linear regression from two methods\")\n",
        "plt.scatter(x, y, alpha=0.5, label=\"Data\")\n",
        "plt.plot([0, 25], [linear_regression_forward(0, best_w, best_b), linear_regression_forward(25, best_w, best_b)], c=\"red\", label=\"Find parameters analytically\");\n",
        "plt.plot([0, 25], [model(0).detach(), model(25).detach()], c=\"green\", label=\"Find parameters numerically\");\n",
        "plt.xlabel(\"Quiz\")\n",
        "plt.ylabel(\"Final\")\n",
        "plt.legend()"
      ],
      "metadata": {
        "id": "NFoiq-gM25ip"
      },
      "execution_count": null,
      "outputs": []
    },
    {
      "cell_type": "code",
      "source": [
        "# model evaluation\n",
        "model.eval()\n",
        "with torch.no_grad():\n",
        "    print(loss_fn(model(x_test), y_test))"
      ],
      "metadata": {
        "id": "4ETfY1AR3Q8k"
      },
      "execution_count": null,
      "outputs": []
    },
    {
      "cell_type": "markdown",
      "source": [
        "# Classification on MNIST dataset"
      ],
      "metadata": {
        "id": "iop32x6hPcPs"
      }
    },
    {
      "cell_type": "markdown",
      "source": [
        "## Create model from PyTorch's nn API"
      ],
      "metadata": {
        "id": "PMBv7snwApCR"
      }
    },
    {
      "cell_type": "code",
      "source": [
        "from pathlib import Path\n",
        "import requests\n",
        "import pickle\n",
        "import gzip\n",
        "\n",
        "DATA_PATH = Path(\"data\")\n",
        "PATH = DATA_PATH / \"mnist\"\n",
        "\n",
        "PATH.mkdir(parents=True, exist_ok=True)\n",
        "\n",
        "URL = \"https://github.com/pytorch/tutorials/raw/main/_static/\"\n",
        "FILENAME = \"mnist.pkl.gz\"\n",
        "\n",
        "if not (PATH / FILENAME).exists():\n",
        "        content = requests.get(URL + FILENAME).content\n",
        "        (PATH / FILENAME).open(\"wb\").write(content)\n",
        "\n",
        "\n",
        "with gzip.open((PATH / FILENAME).as_posix(), \"rb\") as f:\n",
        "    ((x_train, y_train), (x_val, y_val), (x_test, y_test)) = pickle.load(f, encoding=\"latin-1\")\n",
        "\n",
        "plt.imshow(x_train[0].reshape((28, 28)), cmap=\"gray\")\n",
        "try:\n",
        "    import google.colab\n",
        "except ImportError:\n",
        "    plt.show()\n",
        "x_train, y_train, x_val, y_val, x_test, y_test = map(\n",
        "    torch.tensor, (x_train, y_train, x_val, y_val, x_test, y_test)\n",
        ")\n",
        "x_train = x_train.float()\n",
        "x_val = x_val.float()\n",
        "x_test = x_test.float()\n",
        "\n",
        "# y_train, y_val, y_test = map(\n",
        "#     lambda y: F.one_hot(y, num_classes=10), (y_train, y_val, y_test)\n",
        "# )\n",
        "\n",
        "# y_train = y_train.float()\n",
        "# y_val = y_val.float()\n",
        "# y_test = y_test.float()\n",
        "\n",
        "n, c = x_train.shape\n",
        "print(x_train, y_train)\n",
        "print(x_train.shape, y_train.shape)\n",
        "print(x_val.shape, y_val.shape)\n",
        "print(x_test.shape, y_test.shape)\n",
        "print(y_train.min(), y_train.max())"
      ],
      "metadata": {
        "id": "lZKA7indNyDP"
      },
      "execution_count": null,
      "outputs": []
    },
    {
      "cell_type": "code",
      "source": [
        "class SimpleClassifier(nn.Module):\n",
        "    def __init__(self):\n",
        "        super().__init__()\n",
        "        # self.linear1 = nn.Linear(28*28, 256)\n",
        "        # self.linear2 = nn.Linear(256, 128)\n",
        "        # self.linear3 = nn.Linear(128, 64)\n",
        "        # self.linear4 = nn.Linear(64, 10)\n",
        "\n",
        "        self.linear1 = nn.Linear(28*28, 16)\n",
        "        self.linear2 = nn.Linear(16, 16)\n",
        "        self.linear3 = nn.Linear(16, 16)\n",
        "        self.linear4 = nn.Linear(16, 10)\n",
        "    def forward(self, x):\n",
        "        x = self.linear1(x)\n",
        "        x = F.relu(x)\n",
        "        x = self.linear2(x)\n",
        "        x = F.relu(x)\n",
        "        x = self.linear3(x)\n",
        "        x = F.relu(x)\n",
        "        x = self.linear4(x)\n",
        "        # x = F.softmax(x, dim=1)\n",
        "        return x"
      ],
      "metadata": {
        "id": "8fbTov0XBX8c"
      },
      "execution_count": null,
      "outputs": []
    },
    {
      "cell_type": "code",
      "source": [
        "train_dataset = ScoreDataset(x_train, y_train)\n",
        "val_dataset = ScoreDataset(x_val, y_val)\n",
        "test_dataset = ScoreDataset(x_test, y_test)\n",
        "train_dataloader = torch.utils.data.DataLoader(train_dataset, batch_size=256, shuffle=True)\n",
        "val_dataloader = torch.utils.data.DataLoader(val_dataset, batch_size=256, shuffle=False)\n",
        "test_dataloader = torch.utils.data.DataLoader(test_dataset, batch_size=256, shuffle=False)"
      ],
      "metadata": {
        "id": "zJq--O6UNxBh"
      },
      "execution_count": null,
      "outputs": []
    },
    {
      "cell_type": "code",
      "source": [
        "model = SimpleClassifier()\n",
        "model.train()\n",
        "epoch_idx = 0"
      ],
      "metadata": {
        "id": "uc7SXbYqWx69"
      },
      "execution_count": null,
      "outputs": []
    },
    {
      "cell_type": "code",
      "source": [
        "# Create error function and optimizer\n",
        "loss_fn = nn.CrossEntropyLoss()\n",
        "# optimizer = torch.optim.SGD(model.parameters(), lr=0.02)\n",
        "optimizer = torch.optim.Adam(model.parameters(), lr=0.0005)\n",
        "n_epochs = 10"
      ],
      "metadata": {
        "id": "fPO55CzaWsQ4"
      },
      "execution_count": null,
      "outputs": []
    },
    {
      "cell_type": "code",
      "source": [
        "train_loss = []\n",
        "val_loss = []\n",
        "for ep in range(n_epochs):\n",
        "    train_loss_ep = train_model_one_epoch(model, train_dataloader, optimizer, loss_fn)\n",
        "    train_loss.append(train_loss_ep)\n",
        "    val_loss_ep = evaluate_model(model, val_dataloader)\n",
        "    val_loss.append(val_loss_ep)\n",
        "    print(f\"epoch {epoch_idx}: train loss: {train_loss_ep}, val loss: {val_loss_ep}\")\n",
        "    epoch_idx += 1"
      ],
      "metadata": {
        "id": "YTP63PAWW1cx"
      },
      "execution_count": null,
      "outputs": []
    },
    {
      "cell_type": "code",
      "source": [
        "plt.plot(train_loss, label=\"training loss\")\n",
        "plt.plot(val_loss, label=\"validation loss\")\n",
        "plt.legend()"
      ],
      "metadata": {
        "id": "kh5dncdyW95Q"
      },
      "execution_count": null,
      "outputs": []
    },
    {
      "cell_type": "code",
      "source": [
        "model.eval()\n",
        "# disable gradient calculation\n",
        "with torch.no_grad():\n",
        "    y_pred = model(x_train).argmax(dim=-1)\n",
        "train_acc = torch.sum(y_pred == y_train)\n",
        "final_train_acc = train_acc/x_train.shape[0]\n",
        "print(final_train_acc)"
      ],
      "metadata": {
        "id": "z7xGZRj5YCpa"
      },
      "execution_count": null,
      "outputs": []
    },
    {
      "cell_type": "code",
      "source": [
        "model.eval()\n",
        "with torch.no_grad():\n",
        "    y_pred = model(x_val).argmax(dim=-1)\n",
        "val_acc = torch.sum(y_pred == y_val)\n",
        "final_val_acc = val_acc/x_val.shape[0]\n",
        "print(final_val_acc)"
      ],
      "metadata": {
        "id": "e2xMB_wOEWoP"
      },
      "execution_count": null,
      "outputs": []
    },
    {
      "cell_type": "code",
      "source": [
        "model.eval()\n",
        "with torch.no_grad():\n",
        "    y_pred = model(x_test).argmax(dim=-1)\n",
        "test_acc = torch.sum(y_pred == y_test)\n",
        "final_test_acc = test_acc/x_test.shape[0]\n",
        "print(final_test_acc)"
      ],
      "metadata": {
        "id": "fdTGMUAicuyu"
      },
      "execution_count": null,
      "outputs": []
    },
    {
      "cell_type": "code",
      "source": [],
      "metadata": {
        "id": "jWHSHj30A0DV"
      },
      "execution_count": null,
      "outputs": []
    }
  ],
  "metadata": {
    "colab": {
      "provenance": [],
      "toc_visible": true
    },
    "kernelspec": {
      "display_name": "Python 3.9.13 ('venv': venv)",
      "language": "python",
      "name": "python3"
    },
    "language_info": {
      "name": "python",
      "version": "3.9.13"
    },
    "vscode": {
      "interpreter": {
        "hash": "22cb1d09959a40fdc50ccd77b5464bb60602aea13b58d7f13d7eaffcd0bc7c7d"
      }
    }
  },
  "nbformat": 4,
  "nbformat_minor": 0
}